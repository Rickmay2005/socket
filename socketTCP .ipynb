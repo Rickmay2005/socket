{
 "cells": [
  {
   "cell_type": "markdown",
   "metadata": {},
   "source": [
    "**Introduzione alle socket TCP**"
   ]
  },
  {
   "cell_type": "markdown",
   "metadata": {},
   "source": [
    "﻿\n",
    "\n",
    "Le socket TCP sono uno dei modi più diffusi per la comunicazione tra processi su una rete. \n",
    "Una socket è un oggetto software che rappresenta un endpoint di un canale di comunicazione bidirezionale tra due processi. In particolare, una socket TCP è una socket orientata alla connessione, \n",
    "cioè garantisce una connessione affidabile e stabile tra i due processi.\n"
   ]
  },
  {
   "cell_type": "markdown",
   "metadata": {},
   "source": [
    "Per utilizzare le socket TCP in Python, è necessario importare la libreria socket. \n",
    "Le primitive più importanti della libreria socket per la gestione delle socket TCP sono:\n",
    "\n",
    "- socket(): crea una nuova socket e restituisce il descrittore della socket appena creata. La funzione richiede due parametri di input: il tipo di indirizzo della socket (AF_INET per gli indirizzi IPv4) e il tipo di socket (SOCK_STREAM per le socket TCP)\n",
    "\n",
    "- bind(): assegna un indirizzo IP e una porta alla socket. La funzione richiede un parametro di input, una tupla contenente l'indirizzo IP (in formato stringa) e la porta (in formato numerico) a cui associare la socket.\n",
    "\n",
    "- listen(): mette la socket in ascolto per eventuali connessioni in ingresso. La funzione richiede un parametro di input, il numero massimo di connessioni in coda che la socket è in grado di gestire contemporaneamente.\n",
    "\n",
    "- accept(): accetta una nuova connessione in ingresso. La funzione restituisce una nuova socket dedicata alla connessione accettata e l'indirizzo IP e la porta del client che ha stabilito la connessione. La funzione blocca il processo fino a quando non viene stabilita una nuova connessione.\n",
    "\n",
    "- connect(): avvia la connessione verso un server remoto specificato dall'indirizzo IP e dalla porta. La funzione richiede un parametro di input, una tupla contenente l'indirizzo IP (in formato stringa) e la porta (in formato numerico) del server. \n",
    "\n",
    "- send(): invia dati sulla socket. La funzione richiede un parametro di input, una stringa contenente i dati da inviare, e restituisce il numero di byte effettivamente inviati. Per inviare tutti i dati può essere necessario invocare la send() più volte. \n",
    "\n",
    "- sendall(): invia tutti i dati sulla socket in una sola volta, e blocca il processo finché tutti i dati non sono stati inviati. In generale, è consigliabile utilizzare la sendall() invece di send() per garantire l'invio completo dei dati. Tuttavia, in alcuni casi specifici, come ad esempio l'invio di dati di grandi dimensioni, potrebbe essere necessario utilizzare la primitiva send() per inviare i dati in blocchi più piccoli.\n",
    "\n",
    "- recv(): riceve dati sulla socket. La funzione restituisce una stringa contenente i dati ricevuti. La funzione blocca il processo fino a quando non arrivano nuovi dati sulla socket.\n",
    "\n",
    "- recvform(): restituisce anche l'indirizzo IP e la porta del mittente dei dati ricevuti.\n",
    "\n",
    "- close(): chiude la socket.\n",
    "\n",
    "Queste sono solo alcune delle primitive disponibili nella libreria socket per la gestione delle socket TCP. \n",
    "Altre primitive includono setsockopt() per impostare opzioni sulla socket, getsockopt() per recuperare le opzioni della socket, e molte altre.\n"
   ]
  },
  {
   "cell_type": "markdown",
   "metadata": {},
   "source": [
    "**Il costrutto with**\n"
   ]
  },
  {
   "cell_type": "markdown",
   "metadata": {},
   "source": [
    "E' utilizzato per gestire il contesto di un oggetto. \n",
    "In particolare, è utile quando si lavora con oggetti che necessitano di essere aperti e chiusi correttamente, come ad esempio file, socket, connessioni a database e così via.\n"
   ]
  },
  {
   "cell_type": "markdown",
   "metadata": {},
   "source": [
    "Il costrutto with ha la seguente sintassi:"
   ]
  },
  {
   "cell_type": "markdown",
   "metadata": {},
   "source": [
    "with <oggetto> as <nome_variabile>:\n",
    "\n",
    "        <blocco_di_codice>       \n",
    "            \n",
    "Uscendo dal with l'oggetto viene chiuso automaticamente"
   ]
  },
  {
   "cell_type": "code",
   "execution_count": null,
   "metadata": {},
   "outputs": [],
   "source": [
    "#Chiarimento sul formato di dati scambiato\n",
    "#nella socket vengono inviati byte\n",
    "#quindi le stringhe vanno codificate in byte encode() prima di essere trasmesse \n",
    "#ed i dati ricevuti vanno decodificati decode() prima di essere visualizzati. \n",
    "input_string = 'Hello'\n",
    "print(type(input_string))\n",
    "input_bytes_encoded = input_string.encode()\n",
    "print(type(input_bytes_encoded)) \n",
    "print(input_bytes_encoded)\n",
    "output_string = input_bytes_encoded.decode() \n",
    "print(type(output_string)) \n",
    "print(output_string)"
   ]
  },
  {
   "cell_type": "code",
   "execution_count": null,
   "metadata": {},
   "outputs": [],
   "source": [
    "#Client\n",
    "import socket\n",
    "\n",
    "HOST='127.0.0.1' # Indirizzo del server\n",
    "PORT=65432 #Porta usata dal server\n",
    "\n",
    "with socket.socket(socket.AF_INET, socket.SOCK_STREAM) as sock_service: \n",
    "    sock_service.connect((HOST, PORT))\n",
    "    sock_service.sendall(b'Hello, world') # invio direttamente in formato byte\n",
    "    data = sock_service.recv(1024) # il parametro indica la dimensione massima dei dati che possono essere ricevuti in una sola volta\n",
    "\n",
    "#a questo punto la socket è stata chiusa automaticamente\n",
    "print('Received', data.decode())"
   ]
  },
  {
   "cell_type": "code",
   "execution_count": null,
   "metadata": {},
   "outputs": [],
   "source": [
    "# Server \n",
    "import socket\n",
    "\n",
    "# Configurazione del server \n",
    "IP='127.0.0.1'\n",
    "PORTA = 65432\n",
    "DIM_BUFFER = 1024\n",
    "\n",
    "#Creazione della socket del server con il costrutto with\n",
    "with socket.socket(socket.AF_INET, socket.SOCK_STREAM) as sock_server:\n",
    "\n",
    "    #Binding della socket alla porta specificata\n",
    "    sock_server.bind((IP, PORTA))\n",
    "\n",
    "    #Metti la socket in ascolto per le connessioni in ingresso\n",
    "    sock_server.listen()\n",
    "\n",
    "print(f\"Server in ascolto su {IP}:{PORTA}...\")\n",
    "\n",
    "#Loop principale del server\n",
    "while True:\n",
    "        #accetta le connessioni\n",
    "        sock_service, address_client = sock_server.accept() \n",
    "        with sock_service as sock_client:\n",
    "\n",
    "            # Leggi i dati inviati dal client\n",
    "            dati = sock_client.recv(DIM_BUFFER).decode()\n",
    "\n",
    "            #Stampa il messaggio ricevuto e invia una risposta al client \n",
    "            print(f\"Ricevuto messaggio dal client {sock_client}: {dati}\")\n",
    "            sock_client.sendall(\"Messaggio ricevuto dal server\".encode())"
   ]
  }
 ],
 "metadata": {
  "kernelspec": {
   "display_name": "Python 3",
   "language": "python",
   "name": "python3"
  },
  "language_info": {
   "name": "python",
   "version": "3.8.10"
  }
 },
 "nbformat": 4,
 "nbformat_minor": 2
}
