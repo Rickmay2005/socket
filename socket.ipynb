{
 "cells": [
  {
   "cell_type": "markdown",
   "metadata": {},
   "source": [
    "**Introduzione alle socket in python**"
   ]
  },
  {
   "cell_type": "markdown",
   "metadata": {},
   "source": [
    "Le socket sono uno strumento importante per la comunicazione tra processi su una rete sia su internet che su una rete locale.\n",
    "In python le socket possono essere utilizzate sia per la comunicazione tramite il protocollo UDP che è un protocollo di trasmissione di dati senza connessione che TCP con connessione.\n",
    "Per creare un socket usiamo metodo socket() del modulo socket. Metodo accetta famiglia di indirizzi e il tipo di socket "
   ]
  },
  {
   "cell_type": "markdown",
   "metadata": {},
   "source": [
    "**Socket UDP**"
   ]
  },
  {
   "cell_type": "markdown",
   "metadata": {},
   "source": [
    "Usate per inviare e ricevere pacchetti di dati tra 2 dispositivi senza l'instaurazione di una connessione prima della trasmissione dei dati.\n",
    "Socket UDP utili per trasmissione dati in tempo reale come audio e video."
   ]
  },
  {
   "cell_type": "markdown",
   "metadata": {},
   "source": [
    "In python il modulo socket fornisce interfaccia per creare e gestire le socket UDP. Le principali primitive sono:\n"
   ]
  },
  {
   "cell_type": "markdown",
   "metadata": {},
   "source": [
    "1) **socket()**: funzione usata per creare nuova socket UDP"
   ]
  },
  {
   "cell_type": "code",
   "execution_count": null,
   "metadata": {},
   "outputs": [],
   "source": [
    "import socket\n",
    "#creazione socket UDP\n",
    "sock = socket.socket(socket.AF_INET, socket.SOCK_DGRAM)"
   ]
  },
  {
   "cell_type": "markdown",
   "metadata": {},
   "source": [
    "2. **bind()**:associa una socket a un indirizzo e una porta specifici del server. Dopo ciò socket in grado di ricevere dati inviati a quell'indirizzo e porta specifici"
   ]
  },
  {
   "cell_type": "code",
   "execution_count": null,
   "metadata": {},
   "outputs": [],
   "source": [
    "#Associazione socket all'indirizzo e porta del server\n",
    "server_address=('127.0.0.1', 10000)\n",
    "sock.bind(server_address)\n"
   ]
  },
  {
   "cell_type": "markdown",
   "metadata": {},
   "source": [
    "3) **sendto()**: invia messaggio a un indirizzo e porta specifico. messaggio suddiviso in pacchetti e inviato tramite rete"
   ]
  },
  {
   "cell_type": "code",
   "execution_count": null,
   "metadata": {},
   "outputs": [],
   "source": [
    "#Invio messaggio socket del client\n",
    "message=b'Hello client'\n",
    "client_address=('localhost',10001)\n",
    "sock.sendto(message,client_address)"
   ]
  },
  {
   "cell_type": "markdown",
   "metadata": {},
   "source": [
    "4.**recvfrom():** riceve messaggio inviato da una socket specifica. Restituisce messaggio ricevuto"
   ]
  },
  {
   "cell_type": "code",
   "execution_count": null,
   "metadata": {},
   "outputs": [],
   "source": [
    "#ricezione messaggio socket dei clienti\n",
    "data, address=sock.recvfrom(4096)"
   ]
  },
  {
   "cell_type": "markdown",
   "metadata": {},
   "source": [
    "Esempio completo di server e client che comunicano tramite socket UDP in python potrebbe essere il seguente:\n",
    "**nb: il codice va eseguito in locale**"
   ]
  },
  {
   "cell_type": "code",
   "execution_count": null,
   "metadata": {},
   "outputs": [],
   "source": [
    "import socket\n",
    "\n",
    "SERVER_IP=\"127.0.0.1\"\n",
    "SERVER_PORT=5005\n",
    "BUFFER_SIZE=1024\n",
    "\n",
    "#creo socket\n",
    "sock=socket.socket(socket.AF_INET, socket.SOCK_DGRAM)\n",
    "sock.bind((SERVER_IP,SERVER_PORT))\n",
    "\n",
    "print(\"Server in attesa del messaggio\")\n",
    "\n",
    "while True:\n",
    "    #Ricezione\n",
    "    data,addr=sock.recvfrom(BUFFER_SIZE)\n",
    "    print(f\"Messaggio ricevuto dal client {addr}:{data.decode()}\")\n",
    "\n",
    "    #invio risposta al client\n",
    "    reply=\"pong\"\n",
    "    sock.sendto(reply.encode(), addr)"
   ]
  },
  {
   "cell_type": "code",
   "execution_count": null,
   "metadata": {},
   "outputs": [],
   "source": [
    "import socket\n",
    "\n",
    "SERVER_IP=\"127.0.0.1\"\n",
    "SERVER_PORT=5005\n",
    "BUFFER_SIZE=1024\n",
    "NUM_MESSAGES=5\n",
    "\n",
    "#creo socket\n",
    "sock=socket.socket(socket.AF_INET, socket.SOCK_DGRAM)\n",
    "\n",
    "for i in range(NUM_MESSAGES):\n",
    "    #invio messaggio al server \n",
    "    message=\"ping\"\n",
    "    sock.sendto(message.encode(),(SERVER_IP,SERVER_PORT))\n",
    "    print(f\"Messaggio inviato al server:{message}\")\n",
    "\n",
    "    #Ricezione risposta dal server\n",
    "    data,addr=sock.recvfrom(BUFFER_SIZE)\n",
    "    print(f\"Messaggio ricevuto dal server {addr}: {data.decode()}\")\n",
    "\n",
    "#chiusura socket\n",
    "sock.close()"
   ]
  }
 ],
 "metadata": {
  "kernelspec": {
   "display_name": "Python 3",
   "language": "python",
   "name": "python3"
  },
  "language_info": {
   "name": "python",
   "version": "3.11.7"
  }
 },
 "nbformat": 4,
 "nbformat_minor": 2
}
